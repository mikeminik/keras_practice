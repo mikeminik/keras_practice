{
  "nbformat": 4,
  "nbformat_minor": 0,
  "metadata": {
    "colab": {
      "provenance": []
    },
    "kernelspec": {
      "name": "python3",
      "display_name": "Python 3"
    },
    "language_info": {
      "name": "python"
    },
    "accelerator": "TPU"
  },
  "cells": [
    {
      "cell_type": "code",
      "execution_count": 88,
      "metadata": {
        "id": "8rAyRQxbuNjx"
      },
      "outputs": [],
      "source": [
        "from tensorflow import keras\n",
        "from keras.datasets import reuters\n",
        "from keras.utils import to_categorical\n",
        "from keras import layers\n",
        "import numpy as np\n",
        "import matplotlib.pyplot as plt\n",
        "from keras.callbacks import EarlyStopping"
      ]
    },
    {
      "cell_type": "code",
      "source": [
        "def vectorize_sequences(sequences, dimension=10_000):\n",
        "  '''\n",
        "  Takes a list of word-encoded document samples and multi-hot encodes (yields one vector of binary results for a list of terms)\n",
        "  ----\n",
        "  Example input = [1, 5, 3]\n",
        "  Resulting vector = [0, 1, 0, 1, 0, 1]\n",
        "  '''\n",
        "  results = np.zeros((len(sequences), dimension))\n",
        "  for i, sequence in enumerate(sequences):\n",
        "    for j in sequence:\n",
        "      results[i, j] = 1\n",
        "  return results\n"
      ],
      "metadata": {
        "id": "S0uf2661zlRp"
      },
      "execution_count": 34,
      "outputs": []
    },
    {
      "cell_type": "code",
      "source": [
        "(train_data, train_labels), (test_data, test_labels) = reuters.load_data(num_words = 10_000)"
      ],
      "metadata": {
        "id": "4pv_Aho9ufSp"
      },
      "execution_count": 35,
      "outputs": []
    },
    {
      "cell_type": "code",
      "source": [
        "len(train_data)"
      ],
      "metadata": {
        "colab": {
          "base_uri": "https://localhost:8080/"
        },
        "id": "iplDbVm0vFCJ",
        "outputId": "1f2f7186-0679-4699-f11c-ae9c66eaa27e"
      },
      "execution_count": 36,
      "outputs": [
        {
          "output_type": "execute_result",
          "data": {
            "text/plain": [
              "8982"
            ]
          },
          "metadata": {},
          "execution_count": 36
        }
      ]
    },
    {
      "cell_type": "code",
      "source": [
        "len(test_data)"
      ],
      "metadata": {
        "colab": {
          "base_uri": "https://localhost:8080/"
        },
        "id": "GmQvK6GAvTGY",
        "outputId": "046841b6-35bb-40ac-a589-e9504f4f9912"
      },
      "execution_count": 37,
      "outputs": [
        {
          "output_type": "execute_result",
          "data": {
            "text/plain": [
              "2246"
            ]
          },
          "metadata": {},
          "execution_count": 37
        }
      ]
    },
    {
      "cell_type": "code",
      "source": [],
      "metadata": {
        "colab": {
          "base_uri": "https://localhost:8080/"
        },
        "id": "0C6gKeY35-gb",
        "outputId": "f5615dcc-8c7c-4b62-e007-16d0098a089a"
      },
      "execution_count": 46,
      "outputs": [
        {
          "output_type": "execute_result",
          "data": {
            "text/plain": [
              "array([ 3,  4,  3,  4,  4,  4,  4,  3,  3, 16])"
            ]
          },
          "metadata": {},
          "execution_count": 46
        }
      ]
    },
    {
      "cell_type": "code",
      "source": [
        "#train_data[10]"
      ],
      "metadata": {
        "id": "IKblPmI2vWGo"
      },
      "execution_count": 38,
      "outputs": []
    },
    {
      "cell_type": "code",
      "source": [],
      "metadata": {
        "id": "rnY2XD7oBsNr"
      },
      "execution_count": 86,
      "outputs": []
    },
    {
      "cell_type": "code",
      "source": [
        "#Decoding\n",
        "word_index = reuters.get_word_index()"
      ],
      "metadata": {
        "id": "qFhqpGfAvYkw"
      },
      "execution_count": 39,
      "outputs": []
    },
    {
      "cell_type": "code",
      "source": [
        "list(word_index.items())[:5]"
      ],
      "metadata": {
        "colab": {
          "base_uri": "https://localhost:8080/"
        },
        "id": "sgPE87YXvsUo",
        "outputId": "2c6cf7d1-a6ea-42b0-f6db-49639f162dd3"
      },
      "execution_count": 40,
      "outputs": [
        {
          "output_type": "execute_result",
          "data": {
            "text/plain": [
              "[('mdbl', 10996),\n",
              " ('fawc', 16260),\n",
              " ('degussa', 12089),\n",
              " ('woods', 8803),\n",
              " ('hanging', 13796)]"
            ]
          },
          "metadata": {},
          "execution_count": 40
        }
      ]
    },
    {
      "cell_type": "code",
      "source": [
        "reverse_word_index = dict([(value, key) for (key,value) in word_index.items()])"
      ],
      "metadata": {
        "id": "Wx0KowDevuXY"
      },
      "execution_count": 41,
      "outputs": []
    },
    {
      "cell_type": "markdown",
      "source": [
        "Not necessary, but nice to know how to decode"
      ],
      "metadata": {
        "id": "wgS4uLLP6dC5"
      }
    },
    {
      "cell_type": "code",
      "source": [
        "decoded_newswire = ' '.join([reverse_word_index.get(i-3, '?') for i in train_data[1]])"
      ],
      "metadata": {
        "id": "Fyns-pScwKEA"
      },
      "execution_count": 42,
      "outputs": []
    },
    {
      "cell_type": "code",
      "source": [
        "decoded_newswire"
      ],
      "metadata": {
        "colab": {
          "base_uri": "https://localhost:8080/",
          "height": 53
        },
        "id": "97ZGctzQxo2g",
        "outputId": "c90e613f-4674-458d-b694-243e03e6fa7d"
      },
      "execution_count": 43,
      "outputs": [
        {
          "output_type": "execute_result",
          "data": {
            "text/plain": [
              "'? generale de banque sa lt ? br and lt heller overseas corp of chicago have each taken 50 pct stakes in ? company sa ? factors generale de banque said in a statement it gave no financial details of the transaction sa ? ? turnover in 1986 was 17 5 billion belgian francs reuter 3'"
            ],
            "application/vnd.google.colaboratory.intrinsic+json": {
              "type": "string"
            }
          },
          "metadata": {},
          "execution_count": 43
        }
      ]
    },
    {
      "cell_type": "markdown",
      "source": [
        "Vectorize the training and test data so that:\n",
        "\n",
        "-    every input is a tensor of the same shape (vector of length = max amount of words we care about) and every encoded word is hot-encoded into that vector (word index 5 appears as a 1 in index 5 if it is present and so on)\n",
        "\n"
      ],
      "metadata": {
        "id": "z6numafy6gap"
      }
    },
    {
      "cell_type": "code",
      "source": [
        "x_train = vectorize_sequences(train_data)\n",
        "x_test = vectorize_sequences(test_data)"
      ],
      "metadata": {
        "id": "jo10qwHTxpsg"
      },
      "execution_count": 49,
      "outputs": []
    },
    {
      "cell_type": "markdown",
      "source": [
        "**One** hot encode the labels as well (every label becomes a vector of max length = number of classes)"
      ],
      "metadata": {
        "id": "62zDn8yF7Zby"
      }
    },
    {
      "cell_type": "code",
      "source": [
        "y_train = to_categorical(train_labels)\n",
        "y_test = to_categorical(test_labels)\n"
      ],
      "metadata": {
        "id": "hVhGQKYLyKE5"
      },
      "execution_count": 51,
      "outputs": []
    },
    {
      "cell_type": "markdown",
      "source": [
        "Note: Using to_categorical (categorical encoding) you must use the categorical_crossentropy loss function when compiline.\n",
        "\n",
        "If you choose to use the following and just pass as an integer array (probably easier) you can then use the newer sparse_categorical_crossentropy loss function)"
      ],
      "metadata": {
        "id": "P7XgPjj2FX6L"
      }
    },
    {
      "cell_type": "code",
      "source": [
        "# y_train = np.array(train_labels)\n",
        "# y_test = np.array(test_labels)"
      ],
      "metadata": {
        "id": "8Q1Jp98lFs6k"
      },
      "execution_count": null,
      "outputs": []
    },
    {
      "cell_type": "code",
      "source": [],
      "metadata": {
        "colab": {
          "base_uri": "https://localhost:8080/"
        },
        "id": "gWYIXnZx3yX5",
        "outputId": "578d8a88-aedf-4b04-bff7-9486f8b48b6b"
      },
      "execution_count": 52,
      "outputs": [
        {
          "output_type": "execute_result",
          "data": {
            "text/plain": [
              "array([0., 0., 0., 1., 0., 0., 0., 0., 0., 0., 0., 0., 0., 0., 0., 0., 0.,\n",
              "       0., 0., 0., 0., 0., 0., 0., 0., 0., 0., 0., 0., 0., 0., 0., 0., 0.,\n",
              "       0., 0., 0., 0., 0., 0., 0., 0., 0., 0., 0., 0.], dtype=float32)"
            ]
          },
          "metadata": {},
          "execution_count": 52
        }
      ]
    },
    {
      "cell_type": "markdown",
      "source": [
        "Reminder: every layer in a neural network is dependent on the output of the one before it - if some useful representation is lost in the first layer, the second+ will never recover it.\n",
        "\n",
        "More classes (multiclass classification) should use more nodes/units for this reason.\n",
        "\n",
        "**Never use less units in a Dense layer than there are output class possibilities**"
      ],
      "metadata": {
        "id": "zJonR5fX8JWi"
      }
    },
    {
      "cell_type": "code",
      "source": [
        "model = keras.Sequential([\n",
        "    layers.Dense(64, activation='relu'),\n",
        "    layers.Dense(64, activation = 'relu'),\n",
        "    layers.Dense(46, activation='softmax')\n",
        "])"
      ],
      "metadata": {
        "id": "D-BkIY1070vR"
      },
      "execution_count": 56,
      "outputs": []
    },
    {
      "cell_type": "code",
      "source": [
        "model.compile(optimizer='rmsprop',\n",
        "              loss = 'categorical_crossentropy',\n",
        "              metrics=['accuracy'])"
      ],
      "metadata": {
        "id": "-XHAeYvI9FwJ"
      },
      "execution_count": 60,
      "outputs": []
    },
    {
      "cell_type": "markdown",
      "source": [
        "Set aside some validation data"
      ],
      "metadata": {
        "id": "7xBD5KBS9ufJ"
      }
    },
    {
      "cell_type": "code",
      "source": [
        "x_val = x_train[:1000]\n",
        "partial_x_train = x_train[1000:]\n",
        "y_val = y_train[:1000]\n",
        "partial_y_train = y_train[1000:]"
      ],
      "metadata": {
        "id": "iwrwAq589G6y"
      },
      "execution_count": 63,
      "outputs": []
    },
    {
      "cell_type": "code",
      "source": [
        "history = model.fit(partial_x_train,\n",
        "                    partial_y_train,\n",
        "                    epochs = 20,\n",
        "                    batch_size = 512,\n",
        "                    validation_data = (x_val, y_val))\n",
        "\n"
      ],
      "metadata": {
        "colab": {
          "base_uri": "https://localhost:8080/"
        },
        "id": "HlwJG5Um9T-x",
        "outputId": "0d6c73f5-cafe-4749-ba8a-cd8f0a1c92fc"
      },
      "execution_count": 69,
      "outputs": [
        {
          "output_type": "stream",
          "name": "stdout",
          "text": [
            "Epoch 1/20\n",
            "16/16 [==============================] - 3s 115ms/step - loss: 2.6802 - accuracy: 0.4689 - val_loss: 1.7905 - val_accuracy: 0.6160\n",
            "Epoch 2/20\n",
            "16/16 [==============================] - 1s 89ms/step - loss: 1.5023 - accuracy: 0.6828 - val_loss: 1.3593 - val_accuracy: 0.6900\n",
            "Epoch 3/20\n",
            "16/16 [==============================] - 3s 209ms/step - loss: 1.1556 - accuracy: 0.7539 - val_loss: 1.1979 - val_accuracy: 0.7290\n",
            "Epoch 4/20\n",
            "16/16 [==============================] - 1s 92ms/step - loss: 0.9526 - accuracy: 0.7970 - val_loss: 1.0885 - val_accuracy: 0.7740\n",
            "Epoch 5/20\n",
            "16/16 [==============================] - 1s 69ms/step - loss: 0.7906 - accuracy: 0.8334 - val_loss: 1.0242 - val_accuracy: 0.7840\n",
            "Epoch 6/20\n",
            "16/16 [==============================] - 1s 66ms/step - loss: 0.6624 - accuracy: 0.8602 - val_loss: 0.9519 - val_accuracy: 0.8010\n",
            "Epoch 7/20\n",
            "16/16 [==============================] - 1s 67ms/step - loss: 0.5556 - accuracy: 0.8816 - val_loss: 0.9175 - val_accuracy: 0.7990\n",
            "Epoch 8/20\n",
            "16/16 [==============================] - 1s 69ms/step - loss: 0.4686 - accuracy: 0.9039 - val_loss: 0.9115 - val_accuracy: 0.8010\n",
            "Epoch 9/20\n",
            "16/16 [==============================] - 1s 68ms/step - loss: 0.3948 - accuracy: 0.9181 - val_loss: 0.8805 - val_accuracy: 0.8030\n",
            "Epoch 10/20\n",
            "16/16 [==============================] - 1s 72ms/step - loss: 0.3396 - accuracy: 0.9275 - val_loss: 0.8696 - val_accuracy: 0.8180\n",
            "Epoch 11/20\n",
            "16/16 [==============================] - 1s 72ms/step - loss: 0.2946 - accuracy: 0.9334 - val_loss: 0.8813 - val_accuracy: 0.8200\n",
            "Epoch 12/20\n",
            "16/16 [==============================] - 1s 66ms/step - loss: 0.2530 - accuracy: 0.9430 - val_loss: 0.8777 - val_accuracy: 0.8130\n",
            "Epoch 13/20\n",
            "16/16 [==============================] - 1s 80ms/step - loss: 0.2294 - accuracy: 0.9448 - val_loss: 0.8697 - val_accuracy: 0.8180\n",
            "Epoch 14/20\n",
            "16/16 [==============================] - 2s 108ms/step - loss: 0.2023 - accuracy: 0.9485 - val_loss: 0.8880 - val_accuracy: 0.8170\n",
            "Epoch 15/20\n",
            "16/16 [==============================] - 2s 107ms/step - loss: 0.1850 - accuracy: 0.9521 - val_loss: 0.8897 - val_accuracy: 0.8220\n",
            "Epoch 16/20\n",
            "16/16 [==============================] - 1s 76ms/step - loss: 0.1691 - accuracy: 0.9533 - val_loss: 0.9392 - val_accuracy: 0.8100\n",
            "Epoch 17/20\n",
            "16/16 [==============================] - 1s 66ms/step - loss: 0.1606 - accuracy: 0.9539 - val_loss: 0.9074 - val_accuracy: 0.8210\n",
            "Epoch 18/20\n",
            "16/16 [==============================] - 1s 67ms/step - loss: 0.1477 - accuracy: 0.9534 - val_loss: 0.9147 - val_accuracy: 0.8190\n",
            "Epoch 19/20\n",
            "16/16 [==============================] - 1s 65ms/step - loss: 0.1386 - accuracy: 0.9555 - val_loss: 0.9422 - val_accuracy: 0.8030\n",
            "Epoch 20/20\n",
            "16/16 [==============================] - 1s 66ms/step - loss: 0.1342 - accuracy: 0.9585 - val_loss: 0.9295 - val_accuracy: 0.8180\n"
          ]
        }
      ]
    },
    {
      "cell_type": "code",
      "source": [],
      "metadata": {
        "id": "C_4yVUlW-8s6"
      },
      "execution_count": 71,
      "outputs": []
    },
    {
      "cell_type": "code",
      "source": [
        "fig, axs = plt.subplots(1,2, figsize=(16,8))\n",
        "loss = history.history['loss']\n",
        "val_loss = history.history['val_loss']\n",
        "acc = history.history['accuracy']\n",
        "val_acc = history.history['val_accuracy']\n",
        "epochs = range(1, len(loss) + 1)\n",
        "\n",
        "axs[0].plot(epochs, loss, \"bo\", label=\"Training Loss\")\n",
        "axs[0].plot(epochs, val_loss, \"b\", label=\"Validation Loss\")\n",
        "axs[0].legend();\n",
        "\n",
        "axs[1].plot(epochs, acc, \"ro\", label=\"Training Acc\")\n",
        "axs[1].plot(epochs, val_acc, \"r\", label=\"Validation Acc\")\n",
        "axs[1].legend();"
      ],
      "metadata": {
        "colab": {
          "base_uri": "https://localhost:8080/",
          "height": 676
        },
        "id": "j_-TBscK-eUj",
        "outputId": "bd98e5bd-dff2-49d0-b72e-02a296539391"
      },
      "execution_count": 87,
      "outputs": [
        {
          "output_type": "display_data",
          "data": {
            "text/plain": [
              "<Figure size 1600x800 with 2 Axes>"
            ],
            "image/png": "[encoded data removed]"
          },
          "metadata": {}
        }
      ]
    },
    {
      "cell_type": "markdown",
      "source": [
        "Overfitting appears to happen at 10 epochs, let's aim to grab the best one - with some EarlyStopping experimentation on top of the original exercise"
      ],
      "metadata": {
        "id": "nSss3fyiCbvk"
      }
    },
    {
      "cell_type": "code",
      "source": [
        "es = EarlyStopping(\n",
        "    monitor='val_accuracy',\n",
        "    patience = 2,\n",
        "    verbose = 1,\n",
        "    restore_best_weights=True,\n",
        "    start_from_epoch=5\n",
        ")\n",
        "history = model.fit(partial_x_train,\n",
        "                    partial_y_train,\n",
        "                    epochs = 20,\n",
        "                    batch_size = 512,\n",
        "                    validation_data = (x_val, y_val),\n",
        "                    callbacks = [es]\n",
        ")\n"
      ],
      "metadata": {
        "colab": {
          "base_uri": "https://localhost:8080/"
        },
        "id": "HNSW4BbV-phq",
        "outputId": "44162614-7eef-43e4-8386-8bf9549eb848"
      },
      "execution_count": 100,
      "outputs": [
        {
          "output_type": "stream",
          "name": "stdout",
          "text": [
            "Epoch 1/20\n",
            "16/16 [==============================] - 2s 128ms/step - loss: 0.2848 - accuracy: 0.9357 - val_loss: 0.8528 - val_accuracy: 0.8190\n",
            "Epoch 2/20\n",
            "16/16 [==============================] - 2s 118ms/step - loss: 0.2405 - accuracy: 0.9450 - val_loss: 0.8574 - val_accuracy: 0.8240\n",
            "Epoch 3/20\n",
            "16/16 [==============================] - 1s 89ms/step - loss: 0.2167 - accuracy: 0.9474 - val_loss: 0.8668 - val_accuracy: 0.8160\n",
            "Epoch 4/20\n",
            "16/16 [==============================] - 1s 85ms/step - loss: 0.1939 - accuracy: 0.9489 - val_loss: 0.8758 - val_accuracy: 0.8260\n",
            "Epoch 5/20\n",
            "16/16 [==============================] - 1s 89ms/step - loss: 0.1737 - accuracy: 0.9519 - val_loss: 0.9318 - val_accuracy: 0.8040\n",
            "Epoch 6/20\n",
            "16/16 [==============================] - 3s 159ms/step - loss: 0.1661 - accuracy: 0.9534 - val_loss: 0.9889 - val_accuracy: 0.8020\n",
            "Epoch 7/20\n",
            "16/16 [==============================] - 3s 186ms/step - loss: 0.1475 - accuracy: 0.9569 - val_loss: 0.9286 - val_accuracy: 0.8120\n",
            "Epoch 8/20\n",
            "16/16 [==============================] - 1s 82ms/step - loss: 0.1453 - accuracy: 0.9567 - val_loss: 0.9319 - val_accuracy: 0.8170\n",
            "Epoch 9/20\n",
            "16/16 [==============================] - 1s 81ms/step - loss: 0.1309 - accuracy: 0.9588 - val_loss: 0.9370 - val_accuracy: 0.8130\n",
            "Epoch 10/20\n",
            "16/16 [==============================] - ETA: 0s - loss: 0.1338 - accuracy: 0.9554Restoring model weights from the end of the best epoch: 8.\n",
            "16/16 [==============================] - 1s 81ms/step - loss: 0.1338 - accuracy: 0.9554 - val_loss: 1.0599 - val_accuracy: 0.7930\n",
            "Epoch 10: early stopping\n"
          ]
        }
      ]
    },
    {
      "cell_type": "code",
      "source": [
        "model.evaluate(x_test, y_test)"
      ],
      "metadata": {
        "colab": {
          "base_uri": "https://localhost:8080/"
        },
        "id": "6BGKu0H1Ik5j",
        "outputId": "f2d18a1b-1718-40b3-d466-0516d756ea2b"
      },
      "execution_count": 101,
      "outputs": [
        {
          "output_type": "stream",
          "name": "stdout",
          "text": [
            "71/71 [==============================] - 0s 5ms/step - loss: 1.0113 - accuracy: 0.7952\n"
          ]
        },
        {
          "output_type": "execute_result",
          "data": {
            "text/plain": [
              "[1.011296272277832, 0.7951914668083191]"
            ]
          },
          "metadata": {},
          "execution_count": 101
        }
      ]
    },
    {
      "cell_type": "code",
      "source": [
        "predictions = model.predict(x_test)"
      ],
      "metadata": {
        "colab": {
          "base_uri": "https://localhost:8080/"
        },
        "id": "tzhmE9VFD9Wb",
        "outputId": "836ba312-dfb2-4710-ed37-f4e080258943"
      },
      "execution_count": 92,
      "outputs": [
        {
          "output_type": "stream",
          "name": "stdout",
          "text": [
            "71/71 [==============================] - 1s 5ms/step\n"
          ]
        }
      ]
    },
    {
      "cell_type": "code",
      "source": [
        "predictions[0].shape"
      ],
      "metadata": {
        "colab": {
          "base_uri": "https://localhost:8080/"
        },
        "id": "In8wsn1SEzW7",
        "outputId": "6811a993-2b6c-4a41-9997-5be93025ebbf"
      },
      "execution_count": 96,
      "outputs": [
        {
          "output_type": "execute_result",
          "data": {
            "text/plain": [
              "(46,)"
            ]
          },
          "metadata": {},
          "execution_count": 96
        }
      ]
    },
    {
      "cell_type": "code",
      "source": [],
      "metadata": {
        "id": "k5whQ81yE4MK"
      },
      "execution_count": null,
      "outputs": []
    },
    {
      "cell_type": "markdown",
      "source": [
        "Experimenting with different NN architecture"
      ],
      "metadata": {
        "id": "TF6z2YBJHjZ1"
      }
    },
    {
      "cell_type": "code",
      "source": [
        "model = keras.Sequential([\n",
        "    layers.Dense(128, activation='relu'),\n",
        "    layers.Dense(64, activation = 'relu'),\n",
        "    layers.Dense(46, activation='softmax')\n",
        "])\n",
        "model.compile(optimizer='rmsprop',\n",
        "              loss = 'categorical_crossentropy',\n",
        "              metrics=['accuracy'])\n",
        "\n",
        "es = EarlyStopping(\n",
        "    monitor='val_accuracy',\n",
        "    patience = 2,\n",
        "    verbose = 1,\n",
        "    restore_best_weights=True,\n",
        "    start_from_epoch=5\n",
        ")\n",
        "history = model.fit(partial_x_train,\n",
        "                    partial_y_train,\n",
        "                    epochs = 20,\n",
        "                    batch_size = 512,\n",
        "                    validation_data = (x_val, y_val),\n",
        "                    callbacks = [es]\n",
        ")\n",
        "\n",
        "fig, axs = plt.subplots(1,2, figsize=(16,8))\n",
        "loss = history.history['loss']\n",
        "val_loss = history.history['val_loss']\n",
        "acc = history.history['accuracy']\n",
        "val_acc = history.history['val_accuracy']\n",
        "epochs = range(1, len(loss) + 1)\n",
        "\n",
        "axs[0].plot(epochs, loss, \"bo\", label=\"Training Loss\")\n",
        "axs[0].plot(epochs, val_loss, \"b\", label=\"Validation Loss\")\n",
        "axs[0].legend();\n",
        "\n",
        "axs[1].plot(epochs, acc, \"ro\", label=\"Training Acc\")\n",
        "axs[1].plot(epochs, val_acc, \"r\", label=\"Validation Acc\")\n",
        "axs[1].legend();"
      ],
      "metadata": {
        "colab": {
          "base_uri": "https://localhost:8080/",
          "height": 1000
        },
        "id": "ZhKMcXPtHSJl",
        "outputId": "9d885c7a-7ae1-42a4-b54a-060a315e0b01"
      },
      "execution_count": 98,
      "outputs": [
        {
          "output_type": "stream",
          "name": "stdout",
          "text": [
            "Epoch 1/20\n",
            "16/16 [==============================] - 2s 108ms/step - loss: 2.3570 - accuracy: 0.4975 - val_loss: 1.5745 - val_accuracy: 0.6610\n",
            "Epoch 2/20\n",
            "16/16 [==============================] - 2s 115ms/step - loss: 1.3403 - accuracy: 0.7116 - val_loss: 1.2354 - val_accuracy: 0.7320\n",
            "Epoch 3/20\n",
            "16/16 [==============================] - 2s 143ms/step - loss: 1.0053 - accuracy: 0.7813 - val_loss: 1.0724 - val_accuracy: 0.7760\n",
            "Epoch 4/20\n",
            "16/16 [==============================] - 2s 93ms/step - loss: 0.7969 - accuracy: 0.8229 - val_loss: 0.9931 - val_accuracy: 0.7840\n",
            "Epoch 5/20\n",
            "16/16 [==============================] - 1s 81ms/step - loss: 0.6252 - accuracy: 0.8668 - val_loss: 0.9861 - val_accuracy: 0.7700\n",
            "Epoch 6/20\n",
            "16/16 [==============================] - 1s 89ms/step - loss: 0.5077 - accuracy: 0.8940 - val_loss: 0.9096 - val_accuracy: 0.7980\n",
            "Epoch 7/20\n",
            "16/16 [==============================] - 1s 83ms/step - loss: 0.4117 - accuracy: 0.9123 - val_loss: 0.9059 - val_accuracy: 0.7970\n",
            "Epoch 8/20\n",
            "16/16 [==============================] - 1s 81ms/step - loss: 0.3396 - accuracy: 0.9273 - val_loss: 0.8831 - val_accuracy: 0.8160\n",
            "Epoch 9/20\n",
            "16/16 [==============================] - 1s 88ms/step - loss: 0.2862 - accuracy: 0.9346 - val_loss: 0.8860 - val_accuracy: 0.8160\n",
            "Epoch 10/20\n",
            "16/16 [==============================] - ETA: 0s - loss: 0.2453 - accuracy: 0.9424Restoring model weights from the end of the best epoch: 8.\n",
            "16/16 [==============================] - 1s 83ms/step - loss: 0.2453 - accuracy: 0.9424 - val_loss: 0.9306 - val_accuracy: 0.7970\n",
            "Epoch 10: early stopping\n"
          ]
        },
        {
          "output_type": "display_data",
          "data": {
            "text/plain": [
              "<Figure size 1600x800 with 2 Axes>"
            ],
            "image/png": "[encoded data removed]"
          },
          "metadata": {}
        }
      ]
    },
    {
      "cell_type": "code",
      "source": [
        "results = model.evaluate(x_test, y_test)"
      ],
      "metadata": {
        "colab": {
          "base_uri": "https://localhost:8080/"
        },
        "id": "WTe0l0lnIVmz",
        "outputId": "0debd059-1b4f-462f-d4df-0a43a40a3fa0"
      },
      "execution_count": 99,
      "outputs": [
        {
          "output_type": "stream",
          "name": "stdout",
          "text": [
            "71/71 [==============================] - 1s 7ms/step - loss: 0.9485 - accuracy: 0.7854\n"
          ]
        }
      ]
    },
    {
      "cell_type": "code",
      "source": [],
      "metadata": {
        "id": "IKHDdZ_4HgSb"
      },
      "execution_count": null,
      "outputs": []
    }
  ]
}